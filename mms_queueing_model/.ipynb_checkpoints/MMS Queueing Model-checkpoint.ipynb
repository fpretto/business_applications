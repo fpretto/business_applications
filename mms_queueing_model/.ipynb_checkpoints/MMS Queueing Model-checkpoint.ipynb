{
 "cells": [
  {
   "cell_type": "markdown",
   "metadata": {},
   "source": [
    "# M/M/S Queueing Model"
   ]
  },
  {
   "cell_type": "markdown",
   "metadata": {},
   "source": [
    "## Imports"
   ]
  },
  {
   "cell_type": "code",
   "execution_count": 1,
   "metadata": {},
   "outputs": [],
   "source": [
    "from utils import get_mms_queue\n",
    "from ipywidgets import interact"
   ]
  },
  {
   "cell_type": "markdown",
   "metadata": {},
   "source": [
    "## Assumptions\n",
    "\n",
    "To be able to use the M/M/S Queueing System, some assumptions have to be validated:\n",
    "\n",
    "**1-** The arrival process follows a *Poisson* ditribution (**M**/M/S)\n",
    "\n",
    "**2-** The service rates follow an *Exponential* distribution (M/**M**/S)\n",
    "\n",
    "**3-** There are *S* servers (M/M/**S**) with a FIFO discipline.\n",
    "\n",
    "**4-** The system is stable ($\\lambda$ < S$\\mu$)\n",
    "\n",
    "\n",
    "## Glossary\n",
    "\n",
    "- **lam** = arrival rate ($\\lambda$)\n",
    "- **mu** = service rate ($\\mu$)\n",
    "- **S** = number of servers\n",
    "- **Lq** = average number queue\n",
    "- **Ls** = average number in the system\n",
    "- **Wq** = average time spent in the queue (avg. wait in queue)\n",
    "- **Ws** = average time spent in the system (avg. wait in system)\n",
    "- **prob_0** = probability of zero customers in the system - $P(0)$\n",
    "- **prob_delay** = probability that an arriving customer has to wait - $P(delay)$\n",
    "- **rho** =  Utilization (fraction of time servers are busy - $\\rho$)"
   ]
  },
  {
   "cell_type": "markdown",
   "metadata": {},
   "source": [
    "## M/M/S Queueing Model"
   ]
  },
  {
   "cell_type": "code",
   "execution_count": 2,
   "metadata": {},
   "outputs": [],
   "source": [
    "# Sliders (start, end, step)\n",
    "lam_slider = (0, 100, 0.01)\n",
    "mu_slider = (0, 100, 0.01)\n",
    "server_slider = (0, 50, 1)"
   ]
  },
  {
   "cell_type": "code",
   "execution_count": 3,
   "metadata": {},
   "outputs": [
    {
     "data": {
      "application/vnd.jupyter.widget-view+json": {
       "model_id": "b7bcd0e28e224c5191398a43189763e6",
       "version_major": 2,
       "version_minor": 0
      },
      "text/plain": [
       "interactive(children=(FloatSlider(value=50.0, description='lam', step=0.01), FloatSlider(value=50.0, descripti…"
      ]
     },
     "metadata": {},
     "output_type": "display_data"
    },
    {
     "data": {
      "text/plain": [
       "<function utils.get_mms_queue(lam, mu, servers)>"
      ]
     },
     "execution_count": 3,
     "metadata": {},
     "output_type": "execute_result"
    }
   ],
   "source": [
    "# M/M/S Model Widget\n",
    "interact(get_mms_queue, lam=lam_slider, mu=mu_slider, servers=server_slider)"
   ]
  },
  {
   "cell_type": "code",
   "execution_count": null,
   "metadata": {},
   "outputs": [],
   "source": []
  }
 ],
 "metadata": {
  "kernelspec": {
   "display_name": "Python 3",
   "language": "python",
   "name": "python3"
  },
  "language_info": {
   "codemirror_mode": {
    "name": "ipython",
    "version": 3
   },
   "file_extension": ".py",
   "mimetype": "text/x-python",
   "name": "python",
   "nbconvert_exporter": "python",
   "pygments_lexer": "ipython3",
   "version": "3.7.3"
  },
  "toc": {
   "base_numbering": 1,
   "nav_menu": {},
   "number_sections": true,
   "sideBar": true,
   "skip_h1_title": true,
   "title_cell": "Contenidos",
   "title_sidebar": "Contenidos",
   "toc_cell": false,
   "toc_position": {},
   "toc_section_display": true,
   "toc_window_display": true
  }
 },
 "nbformat": 4,
 "nbformat_minor": 2
}
